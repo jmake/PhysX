{
 "cells": [
  {
   "cell_type": "code",
   "execution_count": 1,
   "id": "194a9d98",
   "metadata": {
    "execution": {
     "iopub.execute_input": "2022-05-12T14:21:34.343345Z",
     "iopub.status.busy": "2022-05-12T14:21:34.342081Z",
     "iopub.status.idle": "2022-05-12T14:21:34.350463Z",
     "shell.execute_reply": "2022-05-12T14:21:34.348844Z"
    }
   },
   "outputs": [],
   "source": [
    "### Simplest"
   ]
  },
  {
   "cell_type": "code",
   "execution_count": 2,
   "id": "bc4767dd",
   "metadata": {
    "execution": {
     "iopub.execute_input": "2022-05-12T14:21:34.356869Z",
     "iopub.status.busy": "2022-05-12T14:21:34.355570Z",
     "iopub.status.idle": "2022-05-12T14:21:34.391686Z",
     "shell.execute_reply": "2022-05-12T14:21:34.390355Z"
    }
   },
   "outputs": [
    {
     "name": "stdout",
     "output_type": "stream",
     "text": [
      "Linux 36f732203247 5.10.47-linuxkit #1 SMP Sat Jul 3 21:51:47 UTC 2021 x86_64 x86_64 x86_64 GNU/Linux\n",
      "Thu May 12 14:21:34 UTC 2022\n",
      "/home/jovyan/work/PHYSX41/GetGeometry\n"
     ]
    }
   ],
   "source": [
    "%%bash \n",
    "uname -a \n",
    "g++ --version\n",
    "cmake --version\n",
    "clang-9 --version\n",
    "git --version\n",
    "date\n", 
    "pwd\n",
    "git clone https://github.com/spicytechs/PhysX.git\n",
    "#more PhysX/Actions/RUNNER.sh\n",
    "cd PhysX\n",
    "bash Actions/RUNNER.sh\n",
    "date"
   ]
  }
 ],
 "metadata": {
  "kernelspec": {
   "display_name": "Python 3 (ipykernel)",
   "language": "python",
   "name": "python3"
  },
  "language_info": {
   "codemirror_mode": {
    "name": "ipython",
    "version": 3
   },
   "file_extension": ".py",
   "mimetype": "text/x-python",
   "name": "python",
   "nbconvert_exporter": "python",
   "pygments_lexer": "ipython3",
   "version": "3.8.10"
  }
 },
 "nbformat": 4,
 "nbformat_minor": 5
}
