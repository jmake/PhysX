{
 "cells": [
  {
   "cell_type": "code",
   "execution_count": 1,
   "id": "8769f39e",
   "metadata": {},
   "outputs": [],
   "source": [
    "import numpy as np\n",
    "import pandas as pd\n",
    "import pyvista as pv\n",
    "import vtk \n",
    "#pv.set_jupyter_backend('pythreejs')  "
   ]
  },
  {
   "cell_type": "code",
   "execution_count": 2,
   "id": "37832360",
   "metadata": {},
   "outputs": [
    {
     "name": "stdout",
     "output_type": "stream",
     "text": [
      "/Users/poderozita/z2022_1/REPOSITORY/NVCC\n",
      "simulation.dat\n"
     ]
    }
   ],
   "source": [
    "%%bash \n",
    "docker cp physx41_container:/DUMMY/GetGeometry/BUILD/simulation.dat .\n",
    "pwd\n",
    "ls simulation.dat"
   ]
  },
  {
   "cell_type": "raw",
   "id": "9654a5bb",
   "metadata": {},
   "source": []
  },
  {
   "cell_type": "code",
   "execution_count": 3,
   "id": "0775b69b",
   "metadata": {
    "scrolled": false
   },
   "outputs": [
    {
     "name": "stdout",
     "output_type": "stream",
     "text": [
      "CPU times: user 4min 53s, sys: 6.51 s, total: 5min\n",
      "Wall time: 6min 27s\n"
     ]
    }
   ],
   "source": [
    "%%time \n",
    "\n",
    "def GetCubeSource(length, center):\n",
    "    c = vtk.vtkCubeSource() \n",
    "    c.SetCenter(center)\n",
    "    c.SetXLength(length)\n",
    "    c.SetYLength(length)\n",
    "    c.SetZLength(length)\n",
    "    c.Update()\n",
    "    return c.GetOutputDataObject(0) #vtkPolyData\n",
    "\n",
    "\n",
    "def GetCubeSource(length, center):\n",
    "    cube = pv.Cube(center=center,\n",
    "                        x_length=length,\n",
    "                        y_length=length,\n",
    "                        z_length=length\n",
    "                  )\n",
    "    return cube #vtkPolyData\n",
    "\n",
    "\n",
    "def AppendVtps( vtkObjList ) :\n",
    "  appendPolyData = vtk.vtkAppendPolyData()\n",
    "\n",
    "  for vtkObj in vtkObjList : appendPolyData.AddInputData(vtkObj)\n",
    "  appendPolyData.Update()\n",
    "\n",
    "  cleaned = vtk.vtkCleanPolyData()\n",
    "  cleaned.SetInputConnection(appendPolyData.GetOutputPort());\n",
    "  cleaned.Update()\n",
    "  return cleaned.GetOutputDataObject(0)\n",
    "\n",
    "\n",
    "def GetRotation(vtkObj, angle, axis): # angle is in degrees\n",
    "  transform = vtk.vtkTransform()\n",
    "  transform.RotateWXYZ(angle, axis)\n",
    "\n",
    "  tf = vtk.vtkTransformFilter()\n",
    "  tf.SetInputData(vtkObj)\n",
    "  tf.SetTransform(transform)\n",
    "  tf.Update()\n",
    "  return tf.GetOutputDataObject(0)\n",
    "\n",
    "\n",
    "def GetQRotation(vtkobj, q) :\n",
    "    Q = vtk.vtkQuaterniond(q)\n",
    "    axis = np.full(3,np.nan); \n",
    "    angle = Q.GetRotationAngleAndAxis(axis) # angle (in radians)\n",
    "    angle = np.rad2deg(angle)\n",
    "    rotated = GetRotation(vtkobj, angle, axis)\n",
    "    return rotated\n",
    "\n",
    "\n",
    "def GetDisplace(vtkObj, Translate):\n",
    "  transform = vtk.vtkTransform()\n",
    "  transform.Translate(Translate)\n",
    "\n",
    "  tf = vtk.vtkTransformFilter()\n",
    "  tf.SetInputData(vtkObj)\n",
    "  tf.SetTransform(transform)\n",
    "  tf.Update()\n",
    "  return tf.GetOutputDataObject(0)\n",
    "\n",
    "\n",
    "class PhysX :\n",
    "    \n",
    "    def __init__(self): \n",
    "        return \n",
    "    \n",
    "\n",
    "    def SetDataSimulation(self, fname):\n",
    "        self.df = pd.read_csv(fname, sep=\" \",header=0)\n",
    "        self.dfGroupBy = self.df.groupby(\"istep\")\n",
    "\n",
    "        g = self.dfGroupBy.get_group(70)\n",
    "        vtp = self.Groups2VTK(g) \n",
    "        \n",
    "        Vtps = [self.Groups2VTK(v) for k,v in self.dfGroupBy]\n",
    "        return Vtps \n",
    "    \n",
    "    \n",
    "    def Groups2VTK(self, group):\n",
    "        quaternions = group[[\"qx\",\"qy\",\"qz\",\"qw\"]].to_numpy() # qw [rad]\n",
    "        centers = group[[\"x\",\"y\",\"z\"]].to_numpy()\n",
    "        assert len(centers) == len(quaternions)\n",
    "\n",
    "        cubes = [GetCubeSource(4.0,(0,0,0)) for c in centers]\n",
    "        cubes = [GetQRotation(c,q) for c,q in zip(cubes,quaternions)]        \n",
    "        cubes = [GetDisplace(c,q) for c,q in zip(cubes,centers)]        \n",
    "        Vtp = AppendVtps(cubes)\n",
    "        return Vtp\n",
    "        \n",
    "    \n",
    "fin=\"/Users/poderozita/z2022_1/REPOSITORY/NVCC/simulation.dat\"\n",
    "\n",
    "px = PhysX()\n",
    "Vtps = px.SetDataSimulation(fin) "
   ]
  },
  {
   "cell_type": "markdown",
   "id": "28b570ec",
   "metadata": {},
   "source": [
    "### Interactive "
   ]
  },
  {
   "cell_type": "code",
   "execution_count": 4,
   "id": "0f48fb1f",
   "metadata": {},
   "outputs": [
    {
     "data": {
      "application/vnd.jupyter.widget-view+json": {
       "model_id": "d9ab7fc99f8044468f5d9f97fc52f9ce",
       "version_major": 2,
       "version_minor": 0
      },
      "text/plain": [
       "ViewInteractiveWidget(height=768, layout=Layout(height='auto', width='100%'), width=1024)"
      ]
     },
     "metadata": {},
     "output_type": "display_data"
    }
   ],
   "source": [
    "plane = pv.Plane(i_size=100,j_size=100, direction=(0,1,0))\n",
    "\n",
    "pl = pv.Plotter()\n",
    "pl.add_mesh(plane, color=\"tan\", show_edges=True,lighting=False)\n",
    "pl.add_mesh(Vtps[1],show_edges=True,color='r',line_width=1,lighting=False)\n",
    "pl.add_mesh(Vtps[-1],show_edges=True,color='g',line_width=1,lighting=False)\n",
    "\n",
    "pl.set_background('black')\n",
    "pl.set_position([-150,50,200])\n",
    "pl.set_focus([0.0,20,24]) \n",
    "pl.set_viewup((0.0, 1.0, 0.0))\n",
    "\n",
    "pl.show()"
   ]
  },
  {
   "cell_type": "markdown",
   "id": "8bcba534",
   "metadata": {},
   "source": [
    "### Git"
   ]
  },
  {
   "cell_type": "code",
   "execution_count": 5,
   "id": "da277b30",
   "metadata": {},
   "outputs": [
    {
     "data": {
      "application/vnd.jupyter.widget-view+json": {
       "model_id": "edb88908228447e4929dd787f44562a8",
       "version_major": 2,
       "version_minor": 0
      },
      "text/plain": [
       "ViewInteractiveWidget(height=768, layout=Layout(height='auto', width='100%'), width=1024)"
      ]
     },
     "metadata": {},
     "output_type": "display_data"
    }
   ],
   "source": [
    "filename = \"cubes\"\n",
    "\n",
    "mesh = pv.PolyData(Vtps[0])\n",
    "\n",
    "plotter = pv.Plotter()\n",
    "#plotter.open_movie(filename+\".mp4\")\n",
    "plotter.open_gif(filename+\".gif\")\n",
    "\n",
    "plane = pv.Plane(i_size=100,j_size=100, direction=(0,1,0))\n",
    "plotter.add_mesh(plane, color=\"tan\", show_edges=True,lighting=False)\n",
    "plotter.add_mesh(mesh, lighting=False, show_edges=True, color='g')\n",
    "plotter.add_mesh(mesh.outline_corners())\n",
    "\n",
    "plotter.set_background('black')\n",
    "plotter.set_position([-150,50,200])\n",
    "plotter.set_focus([0.0,20,24]) \n",
    "plotter.set_viewup((0.0, 1.0, 0.0))\n",
    "\n",
    "plotter.show(auto_close=False)  \n",
    "plotter.write_frame() \n",
    "for i,vtp in enumerate(Vtps[1:]):\n",
    "    vtp = pv.PolyData(vtp)\n",
    "    mesh.points = vtp.points \n",
    "    plotter.add_text(f\"step:{i}\", name='time-label',font_size=6,color=\"black\")\n",
    "    plotter.write_frame() \n",
    "\n",
    "plotter.close()"
   ]
  },
  {
   "cell_type": "raw",
   "id": "ad20b286",
   "metadata": {},
   "source": []
  },
  {
   "cell_type": "raw",
   "id": "4761caf9",
   "metadata": {},
   "source": [
    "![SegmentLocal](cubes.gif \"segment\")"
   ]
  },
  {
   "cell_type": "raw",
   "id": "bca1d3cf",
   "metadata": {},
   "source": []
  },
  {
   "cell_type": "code",
   "execution_count": 6,
   "id": "dfe7c5b6",
   "metadata": {},
   "outputs": [],
   "source": [
    "for i,vtp in enumerate(Vtps):\n",
    "    mesh = pv.PolyData(vtp)\n",
    "    mesh.save(\"time%03d.vtp\"%i)"
   ]
  },
  {
   "cell_type": "raw",
   "id": "fa5d17f6",
   "metadata": {},
   "source": []
  },
  {
   "cell_type": "markdown",
   "id": "41ca2ab4",
   "metadata": {},
   "source": [
    "## Appendix\n",
    "### Transformations"
   ]
  },
  {
   "cell_type": "code",
   "execution_count": 7,
   "id": "c295358e",
   "metadata": {},
   "outputs": [
    {
     "data": {
      "application/vnd.jupyter.widget-view+json": {
       "model_id": "9bd6527aa236415d9ff561b47b7dc26d",
       "version_major": 2,
       "version_minor": 0
      },
      "text/plain": [
       "ViewInteractiveWidget(height=768, layout=Layout(height='auto', width='100%'), width=1024)"
      ]
     },
     "metadata": {},
     "output_type": "display_data"
    }
   ],
   "source": [
    "cube = pv.Cube(center=(0,0,0),z_length=2)\n",
    "\n",
    "axis = [0.0,0.0,1.0]\n",
    "axis = np.array(axis)\n",
    "rotated = GetRotation(cube, 45.0, axis) \n",
    "\n",
    "center = (2,0,0)\n",
    "center = np.array(center)\n",
    "displaced = GetDisplace(rotated,center) \n",
    "\n",
    "\n",
    "pl = pv.Plotter()\n",
    "pl.add_mesh(cube,show_edges=True,color='r',line_width=3) \n",
    "pl.add_mesh(rotated,show_edges=True,color='b',line_width=3) \n",
    "pl.add_mesh(displaced,show_edges=True,color='g',line_width=3) \n",
    "pl.add_axes_at_origin(zlabel='')\n",
    "pl.show()"
   ]
  },
  {
   "cell_type": "raw",
   "id": "e4fbd179",
   "metadata": {},
   "source": []
  },
  {
   "cell_type": "code",
   "execution_count": 8,
   "id": "a7c4741e",
   "metadata": {},
   "outputs": [
    {
     "name": "stdout",
     "output_type": "stream",
     "text": [
      "Darwin Air-de-j.lan 20.2.0 Darwin Kernel Version 20.2.0: Wed Dec  2 20:39:59 PST 2020; root:xnu-7195.60.75~1/RELEASE_X86_64 x86_64\n",
      "Thu May 12 11:21:48 CEST 2022\n",
      "/Users/poderozita/z2022_1/REPOSITORY/NVCC\n"
     ]
    }
   ],
   "source": [
    "%%bash \n",
    "uname -a \n",
    "date\n",
    "pwd"
   ]
  },
  {
   "cell_type": "raw",
   "id": "e22ea96b",
   "metadata": {},
   "source": []
  }
 ],
 "metadata": {
  "kernelspec": {
   "display_name": "Python 3 (ipykernel)",
   "language": "python",
   "name": "python3"
  },
  "language_info": {
   "codemirror_mode": {
    "name": "ipython",
    "version": 3
   },
   "file_extension": ".py",
   "mimetype": "text/x-python",
   "name": "python",
   "nbconvert_exporter": "python",
   "pygments_lexer": "ipython3",
   "version": "3.9.5"
  }
 },
 "nbformat": 4,
 "nbformat_minor": 5
}
