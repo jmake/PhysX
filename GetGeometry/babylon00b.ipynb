{
 "cells": [
  {
   "cell_type": "code",
   "execution_count": null,
   "id": "bfc95af1-4a7e-4ecb-bc4e-e5c3da8fb344",
   "metadata": {},
   "outputs": [],
   "source": []
  },
  {
   "cell_type": "code",
   "execution_count": 27,
   "id": "f7c61b3e-eff7-44fc-bf2a-90e4faca2226",
   "metadata": {},
   "outputs": [],
   "source": [
    "import numpy as np\n",
    "import pandas as pd\n",
    "import scipy as sc "
   ]
  },
  {
   "cell_type": "code",
   "execution_count": 85,
   "id": "1f79ed68-a454-4c9f-8dbe-9cf833d03966",
   "metadata": {},
   "outputs": [
    {
     "name": "stdout",
     "output_type": "stream",
     "text": [
      "        istep  iobj         x         y           z          ex         ey  \\\n",
      "0           0     0 -20.00010   2.00000    0.000023   -0.000909   0.000047   \n",
      "1           0     1 -16.00010   1.99998   -0.000008   -0.001904   0.000107   \n",
      "2           0     2 -12.00000   1.99998   -0.000035   -0.002372   0.000081   \n",
      "3           0     3  -7.99998   1.99998   -0.000025   -0.001947   0.000096   \n",
      "4           0     4  -3.99995   1.99998   -0.000043   -0.002252   0.000074   \n",
      "...       ...   ...       ...       ...         ...         ...        ...   \n",
      "137995    499   271 -13.37500   9.01363 -167.753000   26.936468  -4.815806   \n",
      "137996    499   272 -58.96090  10.37480 -162.977000 -130.330523  60.702827   \n",
      "137997    499   273 -26.35430   4.49335 -143.776000  -42.769124  51.442479   \n",
      "137998    499   274  19.63790   9.02576 -136.279000  -34.343146 -17.446592   \n",
      "137999    499   275  12.05690  10.32720 -296.950000  107.974330   0.501081   \n",
      "\n",
      "               ez  \n",
      "0        0.002878  \n",
      "1        0.000891  \n",
      "2       -0.000540  \n",
      "3       -0.001005  \n",
      "4       -0.001641  \n",
      "...           ...  \n",
      "137995  12.510270  \n",
      "137996  10.140368  \n",
      "137997 -23.154408  \n",
      "137998 -89.249878  \n",
      "137999  -2.782048  \n",
      "\n",
      "[138000 rows x 8 columns]\n",
      "CPU times: user 3.21 s, sys: 47.5 ms, total: 3.26 s\n",
      "Wall time: 3.41 s\n"
     ]
    }
   ],
   "source": [
    "%%time \n",
    "from scipy.spatial.transform import Rotation\n",
    "\n",
    "class PhysX :\n",
    "    \n",
    "    def __init__(self): \n",
    "        self.template = \"var %sFun = function(){\\n  return %s;\\n}\\n\"\n",
    "        return \n",
    "    \n",
    "\n",
    "    def SetDataSimulation(self, fname):\n",
    "        df = pd.read_csv(fname, sep=\" \",header=0)\n",
    "        qdf = df[[\"qx\",\"qy\",\"qz\",\"qw\"]]\n",
    "\n",
    "        df = df.drop(columns=[\"vx\",\"vy\",\"vz\"])        \n",
    "        df = df.drop(columns=[\"qx\",\"qy\",\"qz\",\"qw\"])\n",
    "        \n",
    "        rot = Rotation.from_quat(qdf).as_euler('xyz',degrees=True)\n",
    "        df[\"ex\"] = rot[:,0] \n",
    "        df[\"ey\"] = rot[:,1] \n",
    "        df[\"ez\"] = rot[:,2] \n",
    "        self.df = df \n",
    "\n",
    "        gr = df.groupby(\"istep\")\n",
    "        self.gr = gr\n",
    "        return \n",
    "\n",
    "    \n",
    "    def GetXXX(self) :\n",
    "        gr = self.gr\n",
    "        #print(gr)\n",
    "        \n",
    "        df = self.df\n",
    "        print(df)\n",
    "        return \n",
    "    \n",
    "    \n",
    "    def GetStep(self,step):\n",
    "        g = self.gr.get_group(step)\n",
    "        g = g.drop(columns=[\"istep\",\"iobj\"])\n",
    "        \n",
    "        texts = \"var %sFun = function(){\\n  return %s;\\n}\\n\"\n",
    "        texts = [texts%(c, np.array2string(g[c].values,separator=',')) for c in g]\n",
    "        texts = \"\\n\\n\".join(texts)\n",
    "        fout = open(\"step%03d.js\" % step,\"w\")\n",
    "        fout.write(texts)\n",
    "        fout.close() \n",
    "        \n",
    "        return g \n",
    "    \n",
    "fin=\"/home/jovyan/work/PHYSX41/GetGeometry/BUILD/simulation.dat\"\n",
    "\n",
    "px = PhysX()\n",
    "Vtps = px.SetDataSimulation(fin) \n",
    "\n",
    "#dummy = px.GetStep(0)\n",
    "px.GetXXX()"
   ]
  },
  {
   "cell_type": "code",
   "execution_count": 130,
   "id": "d694c6db-4d64-4e37-a9d5-9d69b91a5766",
   "metadata": {},
   "outputs": [],
   "source": [
    "def GetXXX(df) :\n",
    "    with np.printoptions(threshold=np.inf):\n",
    "        template = \"var %sFun2D=function(){\\n  return %s;\\n}\\n\"\n",
    "        a2s = lambda _a : np.array2string(_a,separator=',')\n",
    "    \n",
    "        texts = [] \n",
    "        for c in df : \n",
    "            xyz = df.pivot(index=\"istep\",columns=\"iobj\",values=c).values            \n",
    "            texts.append( template%(c,a2s(xyz)) )\n",
    "        texts = \"\\n\\n\".join(texts)\n",
    "        fout = open(\"fields.js\",\"w\")\n",
    "        fout.write(texts)\n",
    "        fout.close() \n",
    "        return \n",
    "\n",
    "GetXXX(px.df)"
   ]
  },
  {
   "cell_type": "code",
   "execution_count": 7,
   "id": "3a579cfa-1ef5-4f90-a929-40b415fefa57",
   "metadata": {},
   "outputs": [],
   "source": [
    "from IPython.display import IFrame"
   ]
  },
  {
   "cell_type": "code",
   "execution_count": 16,
   "id": "db6f34d7-92b5-487e-bdbe-44bfc9f60f3e",
   "metadata": {},
   "outputs": [],
   "source": [
    "#IFrame(src='babylon10b.html', width=700, height=600)"
   ]
  },
  {
   "cell_type": "code",
   "execution_count": null,
   "id": "c54f420b-9edf-47eb-b4cb-ee9296296026",
   "metadata": {},
   "outputs": [],
   "source": []
  },
  {
   "cell_type": "code",
   "execution_count": 10,
   "id": "98954802-1549-433c-95e8-ac8ba51b095c",
   "metadata": {},
   "outputs": [
    {
     "name": "stdout",
     "output_type": "stream",
     "text": [
      "Linux 82a9272b4260 5.10.47-linuxkit #1 SMP Sat Jul 3 21:51:47 UTC 2021 x86_64 x86_64 x86_64 GNU/Linux\n",
      "Fri 13 May 2022 10:52:58 AM UTC\n",
      "/home/jovyan/work/PHYSX41/GetGeometry\n"
     ]
    }
   ],
   "source": [
    "%%bash \n",
    "uname -a \n",
    "date\n",
    "pwd"
   ]
  },
  {
   "cell_type": "code",
   "execution_count": null,
   "id": "d6118b8c-36bd-471a-89c2-7d72c5fef6a5",
   "metadata": {},
   "outputs": [],
   "source": []
  }
 ],
 "metadata": {
  "kernelspec": {
   "display_name": "Python 3 (ipykernel)",
   "language": "python",
   "name": "python3"
  },
  "language_info": {
   "codemirror_mode": {
    "name": "ipython",
    "version": 3
   },
   "file_extension": ".py",
   "mimetype": "text/x-python",
   "name": "python",
   "nbconvert_exporter": "python",
   "pygments_lexer": "ipython3",
   "version": "3.9.12"
  }
 },
 "nbformat": 4,
 "nbformat_minor": 5
}
