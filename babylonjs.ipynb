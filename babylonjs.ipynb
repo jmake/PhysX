{
 "cells": [
  {
   "cell_type": "code",
   "execution_count": 1,
   "id": "440744ef-4dbb-4c61-95e1-3661b96fe8fc",
   "metadata": {
    "tags": []
   },
   "outputs": [
    {
     "name": "stdout",
     "output_type": "stream",
     "text": [
      "Linux jupyter-jmake-2dphysx-2dxkzhbne2 5.4.170+ #1 SMP Sat Feb 26 10:02:52 PST 2022 x86_64 x86_64 x86_64 GNU/Linux\n",
      "Wed 18 May 2022 06:59:09 AM UTC\n",
      "/home/jovyan/work\n",
      "g++ (Ubuntu 9.4.0-1ubuntu1~20.04.1) 9.4.0\n",
      "Copyright (C) 2019 Free Software Foundation, Inc.\n",
      "This is free software; see the source for copying conditions.  There is NO\n",
      "warranty; not even for MERCHANTABILITY or FITNESS FOR A PARTICULAR PURPOSE.\n",
      "\n",
      "cmake version 3.16.3\n",
      "\n",
      "CMake suite maintained and supported by Kitware (kitware.com/cmake).\n",
      "clang version 9.0.1-12 \n",
      "Target: x86_64-pc-linux-gnu\n",
      "Thread model: posix\n",
      "InstalledDir: /usr/bin\n",
      "Python 3.9.12\n"
     ]
    }
   ],
   "source": [
    "%%bash \n",
    "uname -a \n",
    "date\n",
    "pwd\n",
    "\n",
    "g++ --version \n",
    "cmake --version \n",
    "clang++-9 --version\n",
    "python3 --version"
   ]
  },
  {
   "cell_type": "code",
   "execution_count": 2,
   "id": "ae5e6f13-4c63-40bb-b186-4dda1e27cbb7",
   "metadata": {
    "tags": []
   },
   "outputs": [
    {
     "name": "stdout",
     "output_type": "stream",
     "text": [
      "/bin/bash: /home/jovyan/work: Is a directory\n"
     ]
    }
   ],
   "source": [
    "!${PWD}"
   ]
  },
  {
   "cell_type": "code",
   "execution_count": 3,
   "id": "7fc41723-e9e9-469e-af82-854d7cd958ae",
   "metadata": {
    "tags": []
   },
   "outputs": [
    {
     "name": "stdout",
     "output_type": "stream",
     "text": [
      "total 14512\n",
      "drwxr-xr-x 1 jovyan root    4096 May 15 23:36 .\n",
      "drwxr-xr-x 1 jovyan root    4096 May 15 23:36 ..\n",
      "-rw-r--r-- 1 jovyan root  271572 May 15 23:33 libPhysXCharacterKinematic_static_64.a\n",
      "-rw-r--r-- 1 jovyan root 3405836 May 15 23:33 libPhysXCommon_static_64.a\n",
      "-rw-r--r-- 1 jovyan root  464580 May 15 23:34 libPhysXCooking_static_64.a\n",
      "-rw-r--r-- 1 jovyan root 2658990 May 15 23:34 libPhysXExtensions_static_64.a\n",
      "-rw-r--r-- 1 jovyan root  125022 May 15 23:32 libPhysXFoundation_static_64.a\n",
      "-rw-r--r-- 1 jovyan root  512040 May 15 23:33 libPhysXPvdSDK_static_64.a\n",
      "-rw-r--r-- 1 jovyan root 6226664 May 15 23:34 libPhysX_static_64.a\n",
      "-rw-r--r-- 1 jovyan root 1165516 May 15 23:34 libPhysXVehicle_static_64.a\n"
     ]
    }
   ],
   "source": [
    "!ls -la physx/install/linux/PhysX/bin/linux.clang/release/"
   ]
  },
  {
   "cell_type": "code",
   "execution_count": 4,
   "id": "2c0d646c-e3a8-41f0-b586-c296c9175369",
   "metadata": {
    "tags": []
   },
   "outputs": [
    {
     "name": "stdout",
     "output_type": "stream",
     "text": [
      "characterkinematic\t\t\tPxDeletionListener.h\n",
      "collision\t\t\t\tPxFiltering.h\n",
      "common\t\t\t\t\tPxForceMode.h\n",
      "cooking\t\t\t\t\tPxFoundation.h\n",
      "cudamanager\t\t\t\tPxImmediateMode.h\n",
      "extensions\t\t\t\tPxLockedData.h\n",
      "filebuf\t\t\t\t\tPxMaterial.h\n",
      "foundation\t\t\t\tPxPhysicsAPI.h\n",
      "geometry\t\t\t\tPxPhysics.h\n",
      "geomutils\t\t\t\tPxPhysicsSerialization.h\n",
      "gpu\t\t\t\t\tPxPhysicsVersion.h\n",
      "pvd\t\t\t\t\tPxPhysXConfig.h\n",
      "PxActor.h\t\t\t\tPxPruningStructure.h\n",
      "PxAggregate.h\t\t\t\tPxQueryFiltering.h\n",
      "PxArticulationBase.h\t\t\tPxQueryReport.h\n",
      "PxArticulation.h\t\t\tPxRigidActor.h\n",
      "PxArticulationJoint.h\t\t\tPxRigidBody.h\n",
      "PxArticulationJointReducedCoordinate.h\tPxRigidDynamic.h\n",
      "PxArticulationLink.h\t\t\tPxRigidStatic.h\n",
      "PxArticulationReducedCoordinate.h\tPxSceneDesc.h\n",
      "PxBatchQueryDesc.h\t\t\tPxScene.h\n",
      "PxBatchQuery.h\t\t\t\tPxSceneLock.h\n",
      "PxBroadPhase.h\t\t\t\tPxShape.h\n",
      "PxClient.h\t\t\t\tPxSimulationEventCallback.h\n",
      "PxConfig.h\t\t\t\tPxSimulationStatistics.h\n",
      "PxConstraintDesc.h\t\t\tPxVisualizationParameter.h\n",
      "PxConstraint.h\t\t\t\tsolver\n",
      "PxContact.h\t\t\t\ttask\n",
      "PxContactModifyCallback.h\t\tvehicle\n"
     ]
    }
   ],
   "source": [
    "!ls physx/install/linux/PhysX/include/"
   ]
  },
  {
   "cell_type": "code",
   "execution_count": 5,
   "id": "f3b137d9-58ad-466e-8456-7beef74b9e67",
   "metadata": {
    "tags": []
   },
   "outputs": [
    {
     "name": "stdout",
     "output_type": "stream",
     "text": [
      "PxAllocatorCallback.h  PxIntrinsics.h  PxPreprocessor.h    PxUnionCast.h\n",
      "PxBitAndData.h\t       PxIO.h\t       PxProfiler.h\t   PxVec2.h\n",
      "PxBounds3.h\t       PxMat33.h       PxQuat.h\t\t   PxVec3.h\n",
      "PxErrorCallback.h      PxMat44.h       PxSharedAssert.h    PxVec4.h\n",
      "PxErrors.h\t       PxMath.h        PxSimpleTypes.h\t   unix\n",
      "PxFlags.h\t       PxMemory.h      PxStrideIterator.h\n",
      "Px.h\t\t       PxPlane.h       PxTransform.h\n"
     ]
    }
   ],
   "source": [
    "!ls physx/install/linux/PxShared/include/foundation/"
   ]
  },
  {
   "cell_type": "code",
   "execution_count": 6,
   "id": "5a6ddc7e-49b4-4aa9-ad9b-f00d235f3e35",
   "metadata": {
    "tags": []
   },
   "outputs": [
    {
     "name": "stdout",
     "output_type": "stream",
     "text": [
      "-- The CXX compiler identification is GNU 9.4.0\n",
      "-- Check for working CXX compiler: /usr/bin/c++\n",
      "-- Check for working CXX compiler: /usr/bin/c++ -- works\n",
      "-- Detecting CXX compiler ABI info\n",
      "-- Detecting CXX compiler ABI info - done\n",
      "-- Detecting CXX compile features\n",
      "-- Detecting CXX compile features - done\n",
      "-- Configuring done\n",
      "-- Generating done\n",
      "-- Build files have been written to: /home/jovyan/work/PhysX/Simplest/BUILD\n",
      "Scanning dependencies of target snippetHelloWorld.x\n",
      "[100%] Built target snippetHelloWorld.x\n",
      "Test project /home/jovyan/work/PhysX/Simplest/BUILD\n",
      "    Start 1: snippetHelloWorld.x\n",
      "1/1 Test #1: snippetHelloWorld.x ..............   Passed    0.00 sec\n",
      "\n",
      "100% tests passed, 0 tests failed out of 1\n",
      "\n",
      "Total Test time (real) =   0.00 sec\n",
      "CPU times: user 27.7 ms, sys: 8.07 ms, total: 35.7 ms\n",
      "Wall time: 2.86 s\n"
     ]
    }
   ],
   "source": [
    "%%time\n",
    "%%bash \n",
    "SIMULATION_RUN() \n",
    "{\n",
    "  cd /home/jovyan/work/PhysX/Simplest\n",
    "\n",
    "  rm -rf BUILD\n",
    "  mkdir BUILD\n",
    "  cd BUILD\n",
    "\n",
    "  cmake .. -DCMAKE_RULE_MESSAGES=OFF\n",
    "  make\n",
    "\n",
    "  ctest\n",
    "}\n",
    "\n",
    "SIMULATION_RUN"
   ]
  },
  {
   "cell_type": "code",
   "execution_count": 7,
   "id": "dde29914-8c17-40e8-b193-30a65340c790",
   "metadata": {
    "tags": []
   },
   "outputs": [
    {
     "name": "stdout",
     "output_type": "stream",
     "text": [
      "-- The CXX compiler identification is GNU 9.4.0\n",
      "-- Check for working CXX compiler: /usr/bin/c++\n",
      "-- Check for working CXX compiler: /usr/bin/c++ -- works\n",
      "-- Detecting CXX compiler ABI info\n",
      "-- Detecting CXX compiler ABI info - done\n",
      "-- Detecting CXX compile features\n",
      "-- Detecting CXX compile features - done\n",
      "-- Configuring done\n",
      "-- Generating done\n",
      "-- Build files have been written to: /home/jovyan/work/PhysX/Babylonjs/BUILD\n",
      "Scanning dependencies of target snippetHelloWorld.x\n",
      "[100%] Built target snippetHelloWorld.x\n",
      "Test project /home/jovyan/work/PhysX/Babylonjs/BUILD\n",
      "    Start 1: snippetHelloWorld.x\n",
      "1/1 Test #1: snippetHelloWorld.x ..............   Passed    0.03 sec\n",
      "\n",
      "100% tests passed, 0 tests failed out of 1\n",
      "\n",
      "Total Test time (real) =   0.08 sec\n",
      "CPU times: user 26.7 ms, sys: 11.8 ms, total: 38.5 ms\n",
      "Wall time: 4.2 s\n"
     ]
    }
   ],
   "source": [
    "%%time\n",
    "%%bash \n",
    "SIMULATION_RUN() \n",
    "{\n",
    "  cd /home/jovyan/work/PhysX/Babylonjs\n",
    "\n",
    "  rm -rf BUILD\n",
    "  mkdir BUILD\n",
    "  cd BUILD\n",
    "\n",
    "  cmake .. -DCMAKE_RULE_MESSAGES=OFF\n",
    "  make\n",
    "\n",
    "  ctest\n",
    "}\n",
    "\n",
    "SIMULATION_RUN"
   ]
  },
  {
   "cell_type": "code",
   "execution_count": 8,
   "id": "ba57e33f-d065-4715-8355-014719c2a6e7",
   "metadata": {
    "tags": []
   },
   "outputs": [
    {
     "name": "stdout",
     "output_type": "stream",
     "text": [
      "[/home/jovyan/work/PhysX/Babylonjs/BUILD/snippetHelloWorld.x] nsteps:250\n",
      "/home/jovyan/work\n",
      "CPU times: user 28.7 ms, sys: 46.5 ms, total: 75.2 ms\n",
      "Wall time: 2.46 s\n"
     ]
    },
    {
     "data": {
      "text/html": [
       "\n",
       "        <iframe\n",
       "            width=\"600\"\n",
       "            height=\"200\"\n",
       "            src=\"babylon.html\"\n",
       "            frameborder=\"0\"\n",
       "            allowfullscreen\n",
       "            \n",
       "        ></iframe>\n",
       "        "
      ],
      "text/plain": [
       "<IPython.lib.display.IFrame at 0x7f7c0451c580>"
      ]
     },
     "execution_count": 8,
     "metadata": {},
     "output_type": "execute_result"
    }
   ],
   "source": [
    "%%time \n",
    "!/home/jovyan/work/PhysX/Babylonjs/BUILD/snippetHelloWorld.x 250\n",
    "!pwd\n",
    "\n",
    "template = open(\"/home/jovyan/work/PhysX/Babylonjs/babylon_template.html\",\"r\").read()\n",
    "fieldsjs = open(\"/home/jovyan/work/fields_new.js\",\"r\").read()\n",
    "\n",
    "f = open(\"babylon.html\",\"w\")\n",
    "f.write(template.replace(\"fieldsJS\",fieldsjs))\n",
    "f.close()\n",
    "\n",
    "from IPython.display import IFrame\n",
    "IFrame(src='babylon.html', width=600, height=200)"
   ]
  },
  {
   "cell_type": "code",
   "execution_count": null,
   "id": "b01dada5-b1bb-4152-8d0f-b7cf873b86fc",
   "metadata": {},
   "outputs": [],
   "source": []
  },
  {
   "cell_type": "code",
   "execution_count": null,
   "id": "b8cfe7c5-7745-4f2d-81b9-da3eb3ec558a",
   "metadata": {},
   "outputs": [],
   "source": []
  }
 ],
 "metadata": {
  "kernelspec": {
   "display_name": "Python 3 (ipykernel)",
   "language": "python",
   "name": "python3"
  },
  "language_info": {
   "codemirror_mode": {
    "name": "ipython",
    "version": 3
   },
   "file_extension": ".py",
   "mimetype": "text/x-python",
   "name": "python",
   "nbconvert_exporter": "python",
   "pygments_lexer": "ipython3",
   "version": "3.9.12"
  }
 },
 "nbformat": 4,
 "nbformat_minor": 5
}
